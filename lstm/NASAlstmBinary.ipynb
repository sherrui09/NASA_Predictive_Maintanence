{
  "cells": [
    {
      "cell_type": "code",
      "execution_count": 12,
      "metadata": {
        "collapsed": true,
        "id": "kC6p94Eg_GxQ"
      },
      "outputs": [],
      "source": [
        "# General imports\n",
        "import numpy as np\n",
        "import pandas as pd\n",
        "import matplotlib.pyplot as plt\n",
        "import seaborn as sns\n",
        "import tensorflow as tf\n",
        "import keras\n",
        "\n",
        "# Sklearn imports\n",
        "from sklearn.model_selection import train_test_split\n",
        "from sklearn.metrics import classification_report, confusion_matrix, roc_curve, auc\n",
        "from sklearn.utils.class_weight import compute_class_weight\n",
        "\n",
        "# Keras imports\n",
        "from keras.models import Sequential\n",
        "from keras.layers import Dense, Dropout, LSTM, BatchNormalization\n",
        "from keras.optimizers import Adam, RMSprop\n",
        "from keras.regularizers import l1_l2\n",
        "from keras.callbacks import EarlyStopping"
      ]
    },
    {
      "cell_type": "code",
      "source": [
        "# run lstm_data_processing.py here"
      ],
      "metadata": {
        "id": "yaxedf7IG_j1"
      },
      "execution_count": null,
      "outputs": []
    },
    {
      "cell_type": "code",
      "execution_count": 14,
      "metadata": {
        "collapsed": true,
        "id": "M53YOodd_GxX"
      },
      "outputs": [],
      "source": [
        "\n",
        "# function to generate labels\n",
        "def gen_labels(id_df, seq_length, label):\n",
        "    data_array = id_df[label].values\n",
        "    num_elements = data_array.shape[0]\n",
        "    return data_array[seq_length:num_elements, :]"
      ]
    },
    {
      "cell_type": "code",
      "execution_count": 15,
      "metadata": {
        "id": "lyS6j4Dd_GxX",
        "colab": {
          "base_uri": "https://localhost:8080/"
        },
        "outputId": "ac456650-c6d4-42bc-d4c3-69a0cee05738"
      },
      "outputs": [
        {
          "output_type": "execute_result",
          "data": {
            "text/plain": [
              "(15631, 1)"
            ]
          },
          "metadata": {},
          "execution_count": 15
        }
      ],
      "source": [
        "# generate labels\n",
        "label_gen = [gen_labels(train_df[train_df['id']==id], sequence_length, ['label1'])\n",
        "             for id in train_df['id'].unique()]\n",
        "label_array = np.concatenate(label_gen).astype(np.float32)\n",
        "label_array.shape"
      ]
    },
    {
      "cell_type": "code",
      "source": [
        "# lstm architecture\n",
        "def build_lstm_model(input_shape, output_units, optimizer_learning_rate):\n",
        "    model = Sequential()\n",
        "    model.add(LSTM(units=100, input_shape=input_shape, return_sequences=True))\n",
        "    model.add(Dropout(0.2))\n",
        "    model.add(LSTM(units=50, return_sequences=False))\n",
        "    model.add(Dropout(0.2))\n",
        "    model.add(Dense(units=output_units, activation='sigmoid'))\n",
        "\n",
        "    optimizer = Adam(learning_rate=optimizer_learning_rate)\n",
        "    model.compile(loss='binary_crossentropy', optimizer=optimizer, metrics=['accuracy'])\n",
        "    return model"
      ],
      "metadata": {
        "id": "jD0xEjADWiX2"
      },
      "execution_count": 16,
      "outputs": []
    },
    {
      "cell_type": "code",
      "source": [
        "\n",
        "early_stop = EarlyStopping(monitor='val_loss', patience=5, verbose=1, restore_best_weights=True)\n",
        "\n",
        "x_train, x_test, y_train, y_test = train_test_split(seq_array, label_array, test_size=0.2, random_state=42)\n",
        "\n",
        "input_shape = (x_train.shape[1], x_train.shape[2])\n",
        "nb_out = y_train.shape[1]\n",
        "\n",
        "# Build the LSTM model\n",
        "model_binary = build_lstm_model(input_shape, nb_out, 0.001)\n",
        "\n",
        "\n",
        "\n",
        "class_weights = compute_class_weight('balanced', classes=np.unique(y_train), y=y_train.ravel())\n",
        "class_weight_dict = dict(enumerate(class_weights))\n",
        "\n",
        "history_binary = model_binary.fit(\n",
        "    x_train, y_train,\n",
        "    epochs=100,\n",
        "    batch_size=200,\n",
        "    validation_split=0.05,\n",
        "    verbose=1,\n",
        "    callbacks=[early_stop],\n",
        "    class_weight=class_weight_dict  #class weights\n",
        ")\n",
        "\n",
        "# Evaluate the model\n",
        "binary_predictions = model_binary.predict(x_test) > 0.5  # .5 threshold\n",
        "binary_accuracy = np.mean(binary_predictions.flatten() == y_test.ravel())\n",
        "print(f\"Binary Classification Accuracy: {binary_accuracy:.2f}\")\n"
      ],
      "metadata": {
        "id": "H58aRV9NY4zY",
        "colab": {
          "base_uri": "https://localhost:8080/"
        },
        "outputId": "45b45f69-ca7a-435b-9a5f-b4a8ac468323"
      },
      "execution_count": 17,
      "outputs": [
        {
          "output_type": "stream",
          "name": "stdout",
          "text": [
            "Epoch 1/100\n",
            "60/60 [==============================] - 19s 249ms/step - loss: 0.3006 - accuracy: 0.8856 - val_loss: 0.2186 - val_accuracy: 0.9121\n",
            "Epoch 2/100\n",
            "60/60 [==============================] - 16s 273ms/step - loss: 0.1267 - accuracy: 0.9478 - val_loss: 0.1106 - val_accuracy: 0.9489\n",
            "Epoch 3/100\n",
            "60/60 [==============================] - 14s 231ms/step - loss: 0.1207 - accuracy: 0.9477 - val_loss: 0.0950 - val_accuracy: 0.9665\n",
            "Epoch 4/100\n",
            "60/60 [==============================] - 14s 232ms/step - loss: 0.1011 - accuracy: 0.9576 - val_loss: 0.1385 - val_accuracy: 0.9537\n",
            "Epoch 5/100\n",
            "60/60 [==============================] - 14s 232ms/step - loss: 0.0932 - accuracy: 0.9593 - val_loss: 0.1957 - val_accuracy: 0.9281\n",
            "Epoch 6/100\n",
            "60/60 [==============================] - 14s 242ms/step - loss: 0.0849 - accuracy: 0.9620 - val_loss: 0.0978 - val_accuracy: 0.9601\n",
            "Epoch 7/100\n",
            "60/60 [==============================] - 14s 234ms/step - loss: 0.0760 - accuracy: 0.9665 - val_loss: 0.0921 - val_accuracy: 0.9601\n",
            "Epoch 8/100\n",
            "60/60 [==============================] - 14s 233ms/step - loss: 0.0825 - accuracy: 0.9644 - val_loss: 0.0957 - val_accuracy: 0.9537\n",
            "Epoch 9/100\n",
            "60/60 [==============================] - 14s 233ms/step - loss: 0.0798 - accuracy: 0.9631 - val_loss: 0.0798 - val_accuracy: 0.9601\n",
            "Epoch 10/100\n",
            "60/60 [==============================] - 14s 233ms/step - loss: 0.0743 - accuracy: 0.9673 - val_loss: 0.0558 - val_accuracy: 0.9728\n",
            "Epoch 11/100\n",
            "60/60 [==============================] - 14s 233ms/step - loss: 0.0672 - accuracy: 0.9701 - val_loss: 0.0575 - val_accuracy: 0.9728\n",
            "Epoch 12/100\n",
            "60/60 [==============================] - 15s 245ms/step - loss: 0.0693 - accuracy: 0.9698 - val_loss: 0.0808 - val_accuracy: 0.9633\n",
            "Epoch 13/100\n",
            "60/60 [==============================] - 14s 236ms/step - loss: 0.0634 - accuracy: 0.9711 - val_loss: 0.0514 - val_accuracy: 0.9744\n",
            "Epoch 14/100\n",
            "60/60 [==============================] - 15s 253ms/step - loss: 0.0810 - accuracy: 0.9631 - val_loss: 0.0584 - val_accuracy: 0.9760\n",
            "Epoch 15/100\n",
            "60/60 [==============================] - 14s 235ms/step - loss: 0.0601 - accuracy: 0.9722 - val_loss: 0.0633 - val_accuracy: 0.9776\n",
            "Epoch 16/100\n",
            "60/60 [==============================] - 17s 287ms/step - loss: 0.0546 - accuracy: 0.9753 - val_loss: 0.0865 - val_accuracy: 0.9617\n",
            "Epoch 17/100\n",
            "60/60 [==============================] - 14s 231ms/step - loss: 0.0674 - accuracy: 0.9692 - val_loss: 0.0796 - val_accuracy: 0.9617\n",
            "Epoch 18/100\n",
            "60/60 [==============================] - ETA: 0s - loss: 0.0607 - accuracy: 0.9727Restoring model weights from the end of the best epoch: 13.\n",
            "60/60 [==============================] - 14s 231ms/step - loss: 0.0607 - accuracy: 0.9727 - val_loss: 0.0976 - val_accuracy: 0.9537\n",
            "Epoch 18: early stopping\n",
            "98/98 [==============================] - 3s 18ms/step\n",
            "Binary Classification Accuracy: 0.98\n"
          ]
        }
      ]
    },
    {
      "cell_type": "code",
      "source": [
        "\n",
        "# Generate predictions\n",
        "binary_predictions = model_binary.predict(x_test) > 0.5\n",
        "\n",
        "# Calculate confusion matrix\n",
        "conf_matrix = confusion_matrix(y_test, binary_predictions)\n",
        "print(\"Confusion Matrix:\\n\", conf_matrix)\n",
        "\n",
        "# Generate classification report\n",
        "class_report = classification_report(y_test, binary_predictions)\n",
        "print(\"\\nClassification Report:\\n\", class_report)\n",
        "class_report_dict = classification_report(y_test, binary_predictions, output_dict=True)\n"
      ],
      "metadata": {
        "id": "EdImbulJZpC2",
        "colab": {
          "base_uri": "https://localhost:8080/"
        },
        "outputId": "5cab8ea2-ab3b-41f2-80a9-d1683cab6b41"
      },
      "execution_count": 18,
      "outputs": [
        {
          "output_type": "stream",
          "name": "stdout",
          "text": [
            "98/98 [==============================] - 2s 18ms/step\n",
            "Confusion Matrix:\n",
            " [[2482   32]\n",
            " [  33  580]]\n",
            "\n",
            "Classification Report:\n",
            "               precision    recall  f1-score   support\n",
            "\n",
            "         0.0       0.99      0.99      0.99      2514\n",
            "         1.0       0.95      0.95      0.95       613\n",
            "\n",
            "    accuracy                           0.98      3127\n",
            "   macro avg       0.97      0.97      0.97      3127\n",
            "weighted avg       0.98      0.98      0.98      3127\n",
            "\n"
          ]
        }
      ]
    },
    {
      "cell_type": "code",
      "source": [
        "\n",
        "plt.figure(figsize=(8, 6))\n",
        "sns.heatmap(conf_matrix, annot=True, fmt='d', cmap='Blues', cbar=False)\n",
        "plt.xlabel('Predicted')\n",
        "plt.ylabel('Actual')\n",
        "plt.title('Confusion Matrix')\n",
        "plt.show()\n"
      ],
      "metadata": {
        "id": "992s5beFDJVC",
        "colab": {
          "base_uri": "https://localhost:8080/",
          "height": 564
        },
        "outputId": "4b39c267-840f-44c7-db87-06c22d936aa9"
      },
      "execution_count": 19,
      "outputs": [
        {
          "output_type": "display_data",
          "data": {
            "text/plain": [
              "<Figure size 800x600 with 1 Axes>"
            ],
            "image/png": "[encoded data removed]"
          },
          "metadata": {}
        }
      ]
    },
    {
      "cell_type": "code",
      "source": [
        "\n",
        "# Update binary model info\n",
        "binary_model_info = {\n",
        "    \"accuracy\": class_report_dict['accuracy'],\n",
        "    \"precision\": class_report_dict['weighted avg']['precision'],\n",
        "    \"recall\": class_report_dict['weighted avg']['recall'],\n",
        "    \"f1-score\": class_report_dict['weighted avg']['f1-score']\n",
        "}\n",
        "\n",
        "template_model_info = {\n",
        "    # source: https://cloudxlab.com/blog/predicting-remaining-useful-life-of-a-machine/\n",
        "    \"accuracy\": 0.94,\n",
        "    \"precision\": 0.95,\n",
        "    \"recall\": 0.8,\n",
        "    \"f1-score\": 0.87\n",
        "}\n",
        "\n",
        "# Print updated results\n",
        "print(\"Binary model:   accuracy = {:.2f},  precision = {:.2f},    recall = {:.2f},  f1-score = {:.2f}\".format(\n",
        "    binary_model_info[\"accuracy\"],\n",
        "    binary_model_info[\"precision\"],\n",
        "    binary_model_info[\"recall\"],\n",
        "    binary_model_info[\"f1-score\"]\n",
        "))\n",
        "\n",
        "print(\"Template model: accuracy = {:.2f},  precision = {:.2f}    recall = {:.2f}  f1-score = {:.2f}\".format(\n",
        "    template_model_info[\"accuracy\"],\n",
        "    template_model_info[\"precision\"],\n",
        "    template_model_info[\"recall\"],\n",
        "    template_model_info[\"f1-score\"]\n",
        "))\n"
      ],
      "metadata": {
        "id": "Csi0BLc9t_zX",
        "colab": {
          "base_uri": "https://localhost:8080/"
        },
        "outputId": "66fbb1ce-7df2-4394-e840-229fca036b6f"
      },
      "execution_count": 20,
      "outputs": [
        {
          "output_type": "stream",
          "name": "stdout",
          "text": [
            "Binary model:   accuracy = 0.98,  precision = 0.98,    recall = 0.98,  f1-score = 0.98\n",
            "Template model: accuracy = 0.94,  precision = 0.95    recall = 0.80  f1-score = 0.87\n"
          ]
        }
      ]
    },
    {
      "cell_type": "code",
      "source": [
        "\n",
        "# Compute ROC curve and ROC area\n",
        "fpr, tpr, _ = roc_curve(y_test, binary_predictions)\n",
        "roc_auc = auc(fpr, tpr)\n",
        "\n",
        "# Plotting ROC Curve\n",
        "plt.figure()\n",
        "plt.plot(fpr, tpr, color='darkorange', lw=2, label='ROC curve (area = %0.2f)' % roc_auc)\n",
        "plt.plot([0, 1], [0, 1], color='navy', lw=2, linestyle='--')\n",
        "plt.xlim([0.0, 1.0])\n",
        "plt.ylim([0.0, 1.05])\n",
        "plt.xlabel('False Positive Rate')\n",
        "plt.ylabel('True Positive Rate')\n",
        "plt.title('Receiver Operating Characteristic')\n",
        "plt.legend(loc=\"lower right\")\n",
        "plt.show()\n"
      ],
      "metadata": {
        "id": "8Z-0C59sad14",
        "colab": {
          "base_uri": "https://localhost:8080/",
          "height": 472
        },
        "outputId": "9b299484-f8a6-49ee-e751-27944aaabe5b"
      },
      "execution_count": 21,
      "outputs": [
        {
          "output_type": "display_data",
          "data": {
            "text/plain": [
              "<Figure size 640x480 with 1 Axes>"
            ],
            "image/png": "[encoded data removed]"
          },
          "metadata": {}
        }
      ]
    }
  ],
  "metadata": {
    "anaconda-cloud": {},
    "kernelspec": {
      "display_name": "Python [conda env:cntk]",
      "language": "python",
      "name": "conda-env-cntk-py"
    },
    "language_info": {
      "codemirror_mode": {
        "name": "ipython",
        "version": 3
      },
      "file_extension": ".py",
      "mimetype": "text/x-python",
      "name": "python",
      "nbconvert_exporter": "python",
      "pygments_lexer": "ipython3",
      "version": "3.5.3"
    },
    "colab": {
      "provenance": []
    }
  },
  "nbformat": 4,
  "nbformat_minor": 0
}